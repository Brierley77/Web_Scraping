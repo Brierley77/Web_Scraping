{
 "cells": [
  {
   "cell_type": "code",
   "execution_count": 58,
   "metadata": {},
   "outputs": [],
   "source": [
    "# the website we are begining to scrape is: https://www.metoffice.gov.uk/weather/forecast/u10ure55u#?date=2022-07-18"
   ]
  },
  {
   "cell_type": "code",
   "execution_count": 59,
   "metadata": {},
   "outputs": [
    {
     "data": {
      "text/plain": [
       "<Response [200]>"
      ]
     },
     "execution_count": 59,
     "metadata": {},
     "output_type": "execute_result"
    }
   ],
   "source": [
    "import requests\n",
    "\n",
    "page = requests.get('https://www.metoffice.gov.uk/weather/forecast/u10ure55u#?date=2022-07-18')\n",
    "page"
   ]
  },
  {
   "cell_type": "code",
   "execution_count": 60,
   "metadata": {
    "scrolled": true
   },
   "outputs": [],
   "source": [
    "# page.content"
   ]
  },
  {
   "cell_type": "code",
   "execution_count": 61,
   "metadata": {},
   "outputs": [],
   "source": [
    "from bs4 import BeautifulSoup\n",
    "soup = BeautifulSoup(page.content, 'html.parser')"
   ]
  },
  {
   "cell_type": "code",
   "execution_count": 62,
   "metadata": {},
   "outputs": [],
   "source": [
    "# print(soup.prettify())"
   ]
  },
  {
   "cell_type": "code",
   "execution_count": 63,
   "metadata": {},
   "outputs": [],
   "source": [
    "six_day = soup.find(id = 'dayNav')\n",
    "forecast_items = six_day.find_all(class_ = 'forecast-tab')\n",
    "today = forecast_items[0]\n",
    "# print(today.prettify())"
   ]
  },
  {
   "cell_type": "code",
   "execution_count": 64,
   "metadata": {},
   "outputs": [],
   "source": [
    "forecast = soup.find_all('tr', class_ = 'step-temp')"
   ]
  },
  {
   "cell_type": "code",
   "execution_count": 65,
   "metadata": {},
   "outputs": [],
   "source": [
    "# this is the forecast for today, we can change the number in [] for tomorrow = [1] etc\n",
    "\n",
    "day1 = forecast[0]"
   ]
  },
  {
   "cell_type": "code",
   "execution_count": 66,
   "metadata": {},
   "outputs": [
    {
     "data": {
      "text/plain": [
       "<tr class=\"step-temp\" data-type=\"temp\">\n",
       "<th class=\"screen-reader-only\" scope=\"row\">\n",
       "<span>Temperature in <span data-full-unit-text=\"\" data-unit-symbol=\"temp\">degrees Celsius</span></span>\n",
       "</th>\n",
       "<td data-temp=\"19\">\n",
       "<div data-value=\"19.06\">19°</div>\n",
       "</td>\n",
       "<td data-temp=\"18\">\n",
       "<div data-value=\"18.22\">18°</div>\n",
       "</td>\n",
       "<td data-temp=\"18\">\n",
       "<div data-value=\"17.85\">18°</div>\n",
       "</td>\n",
       "<td data-temp=\"18\">\n",
       "<div data-value=\"17.55\">18°</div>\n",
       "</td>\n",
       "<td data-temp=\"17\">\n",
       "<div data-value=\"17.33\">17°</div>\n",
       "</td>\n",
       "<td data-temp=\"17\">\n",
       "<div data-value=\"17.27\">17°</div>\n",
       "</td>\n",
       "<td data-temp=\"17\">\n",
       "<div data-value=\"17.33\">17°</div>\n",
       "</td>\n",
       "</tr>"
      ]
     },
     "execution_count": 66,
     "metadata": {},
     "output_type": "execute_result"
    }
   ],
   "source": [
    "day1"
   ]
  },
  {
   "cell_type": "code",
   "execution_count": 67,
   "metadata": {},
   "outputs": [
    {
     "data": {
      "text/plain": [
       "[<div data-value=\"19.06\">19°</div>,\n",
       " <div data-value=\"18.22\">18°</div>,\n",
       " <div data-value=\"17.85\">18°</div>,\n",
       " <div data-value=\"17.55\">18°</div>,\n",
       " <div data-value=\"17.33\">17°</div>,\n",
       " <div data-value=\"17.27\">17°</div>,\n",
       " <div data-value=\"17.33\">17°</div>]"
      ]
     },
     "execution_count": 67,
     "metadata": {},
     "output_type": "execute_result"
    }
   ],
   "source": [
    "day1.select('div')"
   ]
  },
  {
   "cell_type": "code",
   "execution_count": 68,
   "metadata": {},
   "outputs": [
    {
     "data": {
      "text/plain": [
       "<div data-value=\"19.06\">19°</div>"
      ]
     },
     "execution_count": 68,
     "metadata": {},
     "output_type": "execute_result"
    }
   ],
   "source": [
    "day1.select('div')[0]"
   ]
  },
  {
   "cell_type": "code",
   "execution_count": 69,
   "metadata": {},
   "outputs": [],
   "source": [
    "hour = day1.select('div')[0].get_text()"
   ]
  },
  {
   "cell_type": "code",
   "execution_count": 70,
   "metadata": {},
   "outputs": [
    {
     "name": "stdout",
     "output_type": "stream",
     "text": [
      "19°\n"
     ]
    }
   ],
   "source": [
    "print(hour)"
   ]
  },
  {
   "cell_type": "code",
   "execution_count": 71,
   "metadata": {},
   "outputs": [
    {
     "data": {
      "text/plain": [
       "['19°', '18°', '18°', '18°', '17°', '17°', '17°']"
      ]
     },
     "execution_count": 71,
     "metadata": {},
     "output_type": "execute_result"
    }
   ],
   "source": [
    "# now I need to try and get all of the temp values from today \n",
    "\n",
    "today_tags = day1.select('div')\n",
    "today = [tt.get_text() for tt in today_tags]\n",
    "today"
   ]
  },
  {
   "cell_type": "markdown",
   "metadata": {},
   "source": [
    "## Now I am going to get temperatures for the following 6 days "
   ]
  },
  {
   "cell_type": "code",
   "execution_count": 72,
   "metadata": {},
   "outputs": [],
   "source": [
    "day2 = forecast[1]"
   ]
  },
  {
   "cell_type": "code",
   "execution_count": 73,
   "metadata": {},
   "outputs": [
    {
     "data": {
      "text/plain": [
       "['17°',\n",
       " '18°',\n",
       " '18°',\n",
       " '18°',\n",
       " '18°',\n",
       " '18°',\n",
       " '18°',\n",
       " '18°',\n",
       " '18°',\n",
       " '19°',\n",
       " '19°',\n",
       " '19°',\n",
       " '20°',\n",
       " '20°',\n",
       " '20°',\n",
       " '20°',\n",
       " '20°',\n",
       " '19°',\n",
       " '19°',\n",
       " '19°',\n",
       " '19°',\n",
       " '19°',\n",
       " '18°',\n",
       " '18°']"
      ]
     },
     "execution_count": 73,
     "metadata": {},
     "output_type": "execute_result"
    }
   ],
   "source": [
    "day2_tags = day2.select('div')\n",
    "day2_ = [tt.get_text() for tt in day2_tags]\n",
    "day2_"
   ]
  },
  {
   "cell_type": "code",
   "execution_count": 74,
   "metadata": {},
   "outputs": [
    {
     "data": {
      "text/plain": [
       "['18°', '18°', '18°', '18°', '20°', '20°', '20°', '19°', '17°']"
      ]
     },
     "execution_count": 74,
     "metadata": {},
     "output_type": "execute_result"
    }
   ],
   "source": [
    "# further out the forecast the fewer the temperatures \n",
    "\n",
    "day3 = forecast[2]\n",
    "\n",
    "day3_tags = day3.select('div')\n",
    "day3_ = [tt.get_text() for tt in day3_tags]\n",
    "day3_"
   ]
  },
  {
   "cell_type": "code",
   "execution_count": 75,
   "metadata": {},
   "outputs": [
    {
     "data": {
      "text/plain": [
       "['17°', '16°', '17°', '21°', '22°', '23°', '22°', '20°']"
      ]
     },
     "execution_count": 75,
     "metadata": {},
     "output_type": "execute_result"
    }
   ],
   "source": [
    "day4 = forecast[3]\n",
    "\n",
    "day4_tags = day4.select('div')\n",
    "day4_ = [tt.get_text() for tt in day4_tags]\n",
    "day4_"
   ]
  },
  {
   "cell_type": "code",
   "execution_count": 76,
   "metadata": {},
   "outputs": [
    {
     "data": {
      "text/plain": [
       "['19°', '19°', '18°', '21°', '22°', '23°', '23°', '20°']"
      ]
     },
     "execution_count": 76,
     "metadata": {},
     "output_type": "execute_result"
    }
   ],
   "source": [
    "day5 = forecast[4]\n",
    "\n",
    "day5_tags = day5.select('div')\n",
    "day5_ = [tt.get_text() for tt in day5_tags]\n",
    "day5_"
   ]
  },
  {
   "cell_type": "code",
   "execution_count": 77,
   "metadata": {},
   "outputs": [
    {
     "data": {
      "text/plain": [
       "['19°', '19°', '19°', '20°', '22°', '22°', '22°', '20°']"
      ]
     },
     "execution_count": 77,
     "metadata": {},
     "output_type": "execute_result"
    }
   ],
   "source": [
    "day6 = forecast[5]\n",
    "\n",
    "day6_tags = day6.select('div')\n",
    "day6_ = [tt.get_text() for tt in day6_tags]\n",
    "day6_"
   ]
  },
  {
   "cell_type": "code",
   "execution_count": 78,
   "metadata": {},
   "outputs": [
    {
     "data": {
      "text/plain": [
       "['19°', '19°', '19°', '20°', '22°', '23°', '22°', '21°']"
      ]
     },
     "execution_count": 78,
     "metadata": {},
     "output_type": "execute_result"
    }
   ],
   "source": [
    "day7 = forecast[6]\n",
    "\n",
    "day7_tags = day7.select('div')\n",
    "day7_ = [tt.get_text() for tt in day7_tags]\n",
    "day7_"
   ]
  },
  {
   "cell_type": "markdown",
   "metadata": {},
   "source": [
    "## lets try and do the above as a loop"
   ]
  },
  {
   "cell_type": "code",
   "execution_count": 79,
   "metadata": {},
   "outputs": [],
   "source": [
    "# this is all the foreasts on the website \n",
    "\n",
    "# to not really stress the website when I am scraping \n",
    "\n",
    "# I am going to impoort time and set it to sleep for a certain amout of seconds \n",
    "\n",
    "# ie import time, then use 'time.sleep(3)' as an example at the end of my loops \n"
   ]
  },
  {
   "cell_type": "code",
   "execution_count": 80,
   "metadata": {},
   "outputs": [],
   "source": [
    "import time "
   ]
  },
  {
   "cell_type": "code",
   "execution_count": 81,
   "metadata": {},
   "outputs": [
    {
     "name": "stdout",
     "output_type": "stream",
     "text": [
      "['19°', '18°', '18°', '18°', '17°', '17°', '17°']\n",
      "['17°', '18°', '18°', '18°', '18°', '18°', '18°', '18°', '18°', '19°', '19°', '19°', '20°', '20°', '20°', '20°', '20°', '19°', '19°', '19°', '19°', '19°', '18°', '18°']\n",
      "['18°', '18°', '18°', '18°', '20°', '20°', '20°', '19°', '17°']\n",
      "['17°', '16°', '17°', '21°', '22°', '23°', '22°', '20°']\n",
      "['19°', '19°', '18°', '21°', '22°', '23°', '23°', '20°']\n",
      "['19°', '19°', '19°', '20°', '22°', '22°', '22°', '20°']\n",
      "['19°', '19°', '19°', '20°', '22°', '23°', '22°', '21°']\n"
     ]
    }
   ],
   "source": [
    "day_list = ['day1', 'day2', 'day3', 'day4', 'day5', 'day6', 'day7']\n",
    "day = day_list\n",
    "d = 0\n",
    "n = 0\n",
    "\n",
    "while n < 7:\n",
    "    day_list[d] = forecast[n]\n",
    "    \n",
    "    day_tags = day_list[d].select('div')\n",
    "    day_ = [tt.get_text() for tt in day_tags]\n",
    "    day_list[d] = day_\n",
    "    \n",
    "    print(day_list[d])\n",
    "    \n",
    "    n += 1\n",
    "    d += 1\n",
    "    time.sleep(2)\n"
   ]
  },
  {
   "cell_type": "markdown",
   "metadata": {},
   "source": [
    "## now I want to put this data into a dataframe "
   ]
  },
  {
   "cell_type": "code",
   "execution_count": 82,
   "metadata": {
    "scrolled": true
   },
   "outputs": [],
   "source": [
    "import pandas as pd"
   ]
  },
  {
   "cell_type": "code",
   "execution_count": 83,
   "metadata": {},
   "outputs": [
    {
     "data": {
      "text/plain": [
       "['19°', '18°', '18°', '18°', '17°', '17°', '17°']"
      ]
     },
     "execution_count": 83,
     "metadata": {},
     "output_type": "execute_result"
    }
   ],
   "source": [
    "# I need to union all of these: day_list[0], day_list[1] and so on \n",
    "\n",
    "day_list[0]"
   ]
  },
  {
   "cell_type": "code",
   "execution_count": 84,
   "metadata": {},
   "outputs": [],
   "source": [
    "dfs = [day_list[0], day_list[1], day_list[2], day_list[3], day_list[4], day_list[5], day_list[6]]"
   ]
  },
  {
   "cell_type": "code",
   "execution_count": null,
   "metadata": {},
   "outputs": [],
   "source": []
  },
  {
   "cell_type": "code",
   "execution_count": 85,
   "metadata": {},
   "outputs": [
    {
     "data": {
      "text/html": [
       "<div>\n",
       "<style scoped>\n",
       "    .dataframe tbody tr th:only-of-type {\n",
       "        vertical-align: middle;\n",
       "    }\n",
       "\n",
       "    .dataframe tbody tr th {\n",
       "        vertical-align: top;\n",
       "    }\n",
       "\n",
       "    .dataframe thead th {\n",
       "        text-align: right;\n",
       "    }\n",
       "</style>\n",
       "<table border=\"1\" class=\"dataframe\">\n",
       "  <thead>\n",
       "    <tr style=\"text-align: right;\">\n",
       "      <th></th>\n",
       "      <th>time</th>\n",
       "      <th>temperature</th>\n",
       "    </tr>\n",
       "  </thead>\n",
       "  <tbody>\n",
       "    <tr>\n",
       "      <th>0</th>\n",
       "      <td>in 6 days</td>\n",
       "      <td>19°</td>\n",
       "    </tr>\n",
       "    <tr>\n",
       "      <th>1</th>\n",
       "      <td>in 6 days</td>\n",
       "      <td>19°</td>\n",
       "    </tr>\n",
       "    <tr>\n",
       "      <th>2</th>\n",
       "      <td>in 6 days</td>\n",
       "      <td>19°</td>\n",
       "    </tr>\n",
       "    <tr>\n",
       "      <th>3</th>\n",
       "      <td>in 6 days</td>\n",
       "      <td>20°</td>\n",
       "    </tr>\n",
       "    <tr>\n",
       "      <th>4</th>\n",
       "      <td>in 6 days</td>\n",
       "      <td>22°</td>\n",
       "    </tr>\n",
       "    <tr>\n",
       "      <th>5</th>\n",
       "      <td>in 6 days</td>\n",
       "      <td>23°</td>\n",
       "    </tr>\n",
       "    <tr>\n",
       "      <th>6</th>\n",
       "      <td>in 6 days</td>\n",
       "      <td>22°</td>\n",
       "    </tr>\n",
       "    <tr>\n",
       "      <th>7</th>\n",
       "      <td>in 6 days</td>\n",
       "      <td>21°</td>\n",
       "    </tr>\n",
       "  </tbody>\n",
       "</table>\n",
       "</div>"
      ],
      "text/plain": [
       "        time temperature\n",
       "0  in 6 days         19°\n",
       "1  in 6 days         19°\n",
       "2  in 6 days         19°\n",
       "3  in 6 days         20°\n",
       "4  in 6 days         22°\n",
       "5  in 6 days         23°\n",
       "6  in 6 days         22°\n",
       "7  in 6 days         21°"
      ]
     },
     "execution_count": 85,
     "metadata": {},
     "output_type": "execute_result"
    }
   ],
   "source": [
    "# still need to work on this: \n",
    "\n",
    "future = ['today', 'tomorrow', 'in 2 days', 'in 3 days', 'in 4 days', 'in 5 days', 'in 6 days']\n",
    "\n",
    "n = 0\n",
    "d = 0\n",
    "p = 0\n",
    "\n",
    "while n < 7:\n",
    "    forecast_temp = pd.DataFrame({\n",
    "    'time' : future[p],\n",
    "    'temperature': day_list[d]\n",
    "})\n",
    "    n += 1\n",
    "    d += 1\n",
    "    p += 1\n",
    "\n",
    "forecast_temp"
   ]
  },
  {
   "cell_type": "code",
   "execution_count": null,
   "metadata": {},
   "outputs": [],
   "source": []
  },
  {
   "cell_type": "code",
   "execution_count": null,
   "metadata": {},
   "outputs": [],
   "source": []
  },
  {
   "cell_type": "code",
   "execution_count": null,
   "metadata": {},
   "outputs": [],
   "source": []
  },
  {
   "cell_type": "code",
   "execution_count": null,
   "metadata": {},
   "outputs": [],
   "source": []
  },
  {
   "cell_type": "code",
   "execution_count": null,
   "metadata": {},
   "outputs": [],
   "source": []
  },
  {
   "cell_type": "code",
   "execution_count": null,
   "metadata": {},
   "outputs": [],
   "source": []
  },
  {
   "cell_type": "code",
   "execution_count": null,
   "metadata": {},
   "outputs": [],
   "source": []
  }
 ],
 "metadata": {
  "kernelspec": {
   "display_name": "Python 3",
   "language": "python",
   "name": "python3"
  },
  "language_info": {
   "codemirror_mode": {
    "name": "ipython",
    "version": 3
   },
   "file_extension": ".py",
   "mimetype": "text/x-python",
   "name": "python",
   "nbconvert_exporter": "python",
   "pygments_lexer": "ipython3",
   "version": "3.7.6"
  }
 },
 "nbformat": 4,
 "nbformat_minor": 4
}
