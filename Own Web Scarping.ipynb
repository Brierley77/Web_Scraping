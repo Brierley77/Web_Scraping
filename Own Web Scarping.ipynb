{
 "cells": [
  {
   "cell_type": "code",
   "execution_count": 47,
   "metadata": {},
   "outputs": [],
   "source": [
    "# the website we are begining to scrape is: https://www.metoffice.gov.uk/weather/forecast/u10ure55u#?date=2022-07-18"
   ]
  },
  {
   "cell_type": "code",
   "execution_count": 48,
   "metadata": {},
   "outputs": [
    {
     "data": {
      "text/plain": [
       "<Response [200]>"
      ]
     },
     "execution_count": 48,
     "metadata": {},
     "output_type": "execute_result"
    }
   ],
   "source": [
    "import requests\n",
    "\n",
    "page = requests.get('https://www.metoffice.gov.uk/weather/forecast/u10ure55u#?date=2022-07-18')\n",
    "page"
   ]
  },
  {
   "cell_type": "code",
   "execution_count": 49,
   "metadata": {
    "scrolled": true
   },
   "outputs": [],
   "source": [
    "# page.content"
   ]
  },
  {
   "cell_type": "code",
   "execution_count": 50,
   "metadata": {},
   "outputs": [],
   "source": [
    "from bs4 import BeautifulSoup\n",
    "soup = BeautifulSoup(page.content, 'html.parser')"
   ]
  },
  {
   "cell_type": "code",
   "execution_count": 51,
   "metadata": {},
   "outputs": [],
   "source": [
    "# print(soup.prettify())"
   ]
  },
  {
   "cell_type": "code",
   "execution_count": 52,
   "metadata": {},
   "outputs": [],
   "source": [
    "six_day = soup.find(id = 'dayNav')\n",
    "forecast_items = six_day.find_all(class_ = 'forecast-tab')\n",
    "today = forecast_items[0]\n",
    "# print(today.prettify())"
   ]
  },
  {
   "cell_type": "code",
   "execution_count": 53,
   "metadata": {},
   "outputs": [],
   "source": [
    "forecast = soup.find_all('tr', class_ = 'step-temp')"
   ]
  },
  {
   "cell_type": "code",
   "execution_count": 54,
   "metadata": {},
   "outputs": [],
   "source": [
    "# this is the forecast for today, we can change the number in [] for tomorrow = [1] etc\n",
    "\n",
    "day1 = forecast[0]"
   ]
  },
  {
   "cell_type": "code",
   "execution_count": 55,
   "metadata": {},
   "outputs": [
    {
     "data": {
      "text/plain": [
       "<tr class=\"step-temp\" data-type=\"temp\">\n",
       "<th class=\"screen-reader-only\" scope=\"row\">\n",
       "<span>Temperature in <span data-full-unit-text=\"\" data-unit-symbol=\"temp\">degrees Celsius</span></span>\n",
       "</th>\n",
       "<td data-temp=\"27\">\n",
       "<div data-value=\"26.5\">27°</div>\n",
       "</td>\n",
       "<td data-temp=\"26\">\n",
       "<div data-value=\"26.28\">26°</div>\n",
       "</td>\n",
       "<td data-temp=\"26\">\n",
       "<div data-value=\"25.53\">26°</div>\n",
       "</td>\n",
       "<td data-temp=\"24\">\n",
       "<div data-value=\"24.21\">24°</div>\n",
       "</td>\n",
       "<td data-temp=\"22\">\n",
       "<div data-value=\"22.1\">22°</div>\n",
       "</td>\n",
       "<td data-temp=\"21\">\n",
       "<div data-value=\"20.89\">21°</div>\n",
       "</td>\n",
       "<td data-temp=\"21\">\n",
       "<div data-value=\"20.52\">21°</div>\n",
       "</td>\n",
       "<td data-temp=\"20\">\n",
       "<div data-value=\"20.29\">20°</div>\n",
       "</td>\n",
       "</tr>"
      ]
     },
     "execution_count": 55,
     "metadata": {},
     "output_type": "execute_result"
    }
   ],
   "source": [
    "day1"
   ]
  },
  {
   "cell_type": "code",
   "execution_count": 56,
   "metadata": {},
   "outputs": [
    {
     "data": {
      "text/plain": [
       "[<div data-value=\"26.5\">27°</div>,\n",
       " <div data-value=\"26.28\">26°</div>,\n",
       " <div data-value=\"25.53\">26°</div>,\n",
       " <div data-value=\"24.21\">24°</div>,\n",
       " <div data-value=\"22.1\">22°</div>,\n",
       " <div data-value=\"20.89\">21°</div>,\n",
       " <div data-value=\"20.52\">21°</div>,\n",
       " <div data-value=\"20.29\">20°</div>]"
      ]
     },
     "execution_count": 56,
     "metadata": {},
     "output_type": "execute_result"
    }
   ],
   "source": [
    "day1.select('div')"
   ]
  },
  {
   "cell_type": "code",
   "execution_count": 57,
   "metadata": {},
   "outputs": [
    {
     "data": {
      "text/plain": [
       "<div data-value=\"26.5\">27°</div>"
      ]
     },
     "execution_count": 57,
     "metadata": {},
     "output_type": "execute_result"
    }
   ],
   "source": [
    "day1.select('div')[0]"
   ]
  },
  {
   "cell_type": "code",
   "execution_count": 58,
   "metadata": {},
   "outputs": [],
   "source": [
    "hour = day1.select('div')[0].get_text()"
   ]
  },
  {
   "cell_type": "code",
   "execution_count": 59,
   "metadata": {},
   "outputs": [
    {
     "name": "stdout",
     "output_type": "stream",
     "text": [
      "27°\n"
     ]
    }
   ],
   "source": [
    "print(hour)"
   ]
  },
  {
   "cell_type": "code",
   "execution_count": 60,
   "metadata": {},
   "outputs": [
    {
     "data": {
      "text/plain": [
       "['27°', '26°', '26°', '24°', '22°', '21°', '21°', '20°']"
      ]
     },
     "execution_count": 60,
     "metadata": {},
     "output_type": "execute_result"
    }
   ],
   "source": [
    "# now I need to try and get all of the temp values from today \n",
    "\n",
    "today_tags = day1.select('div')\n",
    "today = [tt.get_text() for tt in today_tags]\n",
    "today"
   ]
  },
  {
   "cell_type": "markdown",
   "metadata": {},
   "source": [
    "## Now I am going to get temperatures for the following 6 days "
   ]
  },
  {
   "cell_type": "code",
   "execution_count": 61,
   "metadata": {},
   "outputs": [],
   "source": [
    "day2 = forecast[1]"
   ]
  },
  {
   "cell_type": "code",
   "execution_count": 62,
   "metadata": {},
   "outputs": [
    {
     "data": {
      "text/plain": [
       "['20°',\n",
       " '20°',\n",
       " '20°',\n",
       " '19°',\n",
       " '19°',\n",
       " '19°',\n",
       " '19°',\n",
       " '19°',\n",
       " '20°',\n",
       " '21°',\n",
       " '21°',\n",
       " '22°',\n",
       " '23°',\n",
       " '23°',\n",
       " '23°',\n",
       " '24°',\n",
       " '23°',\n",
       " '23°',\n",
       " '23°',\n",
       " '22°',\n",
       " '21°',\n",
       " '21°',\n",
       " '20°',\n",
       " '20°']"
      ]
     },
     "execution_count": 62,
     "metadata": {},
     "output_type": "execute_result"
    }
   ],
   "source": [
    "day2_tags = day2.select('div')\n",
    "day2_ = [tt.get_text() for tt in day2_tags]\n",
    "day2_"
   ]
  },
  {
   "cell_type": "code",
   "execution_count": 63,
   "metadata": {},
   "outputs": [
    {
     "data": {
      "text/plain": [
       "['20°', '19°', '19°', '19°', '21°', '21°', '21°', '20°', '19°']"
      ]
     },
     "execution_count": 63,
     "metadata": {},
     "output_type": "execute_result"
    }
   ],
   "source": [
    "# further out the forecast the fewer the temperatures \n",
    "\n",
    "day3 = forecast[2]\n",
    "\n",
    "day3_tags = day3.select('div')\n",
    "day3_ = [tt.get_text() for tt in day3_tags]\n",
    "day3_"
   ]
  },
  {
   "cell_type": "code",
   "execution_count": 64,
   "metadata": {},
   "outputs": [
    {
     "data": {
      "text/plain": [
       "['19°', '18°', '18°', '20°', '21°', '22°', '21°', '19°']"
      ]
     },
     "execution_count": 64,
     "metadata": {},
     "output_type": "execute_result"
    }
   ],
   "source": [
    "day4 = forecast[3]\n",
    "\n",
    "day4_tags = day4.select('div')\n",
    "day4_ = [tt.get_text() for tt in day4_tags]\n",
    "day4_"
   ]
  },
  {
   "cell_type": "code",
   "execution_count": 65,
   "metadata": {},
   "outputs": [
    {
     "data": {
      "text/plain": [
       "['18°', '18°', '18°', '20°', '22°', '23°', '22°', '19°']"
      ]
     },
     "execution_count": 65,
     "metadata": {},
     "output_type": "execute_result"
    }
   ],
   "source": [
    "day5 = forecast[4]\n",
    "\n",
    "day5_tags = day5.select('div')\n",
    "day5_ = [tt.get_text() for tt in day5_tags]\n",
    "day5_"
   ]
  },
  {
   "cell_type": "code",
   "execution_count": 66,
   "metadata": {},
   "outputs": [
    {
     "data": {
      "text/plain": [
       "['18°', '16°', '16°', '19°', '21°', '21°', '20°', '18°']"
      ]
     },
     "execution_count": 66,
     "metadata": {},
     "output_type": "execute_result"
    }
   ],
   "source": [
    "day6 = forecast[5]\n",
    "\n",
    "day6_tags = day6.select('div')\n",
    "day6_ = [tt.get_text() for tt in day6_tags]\n",
    "day6_"
   ]
  },
  {
   "cell_type": "code",
   "execution_count": 67,
   "metadata": {},
   "outputs": [
    {
     "data": {
      "text/plain": [
       "['17°', '16°', '15°', '17°', '20°', '20°', '19°', '18°']"
      ]
     },
     "execution_count": 67,
     "metadata": {},
     "output_type": "execute_result"
    }
   ],
   "source": [
    "day7 = forecast[6]\n",
    "\n",
    "day7_tags = day7.select('div')\n",
    "day7_ = [tt.get_text() for tt in day7_tags]\n",
    "day7_"
   ]
  },
  {
   "cell_type": "markdown",
   "metadata": {},
   "source": [
    "## lets try and do the above as a loop"
   ]
  },
  {
   "cell_type": "code",
   "execution_count": 68,
   "metadata": {},
   "outputs": [],
   "source": [
    "# this is all the foreasts on the website \n",
    "\n",
    "# to not really stress the website when I am scraping \n",
    "\n",
    "# I am going to impoort time and set it to sleep for a certain amout of seconds \n",
    "\n",
    "# ie import time, then use 'time.sleep(3)' as an example at the end of my loops \n"
   ]
  },
  {
   "cell_type": "code",
   "execution_count": 69,
   "metadata": {},
   "outputs": [],
   "source": [
    "import time "
   ]
  },
  {
   "cell_type": "code",
   "execution_count": 70,
   "metadata": {},
   "outputs": [
    {
     "name": "stdout",
     "output_type": "stream",
     "text": [
      "['27°', '26°', '26°', '24°', '22°', '21°', '21°', '20°']\n",
      "['20°', '20°', '20°', '19°', '19°', '19°', '19°', '19°', '20°', '21°', '21°', '22°', '23°', '23°', '23°', '24°', '23°', '23°', '23°', '22°', '21°', '21°', '20°', '20°']\n",
      "['20°', '19°', '19°', '19°', '21°', '21°', '21°', '20°', '19°']\n",
      "['19°', '18°', '18°', '20°', '21°', '22°', '21°', '19°']\n",
      "['18°', '18°', '18°', '20°', '22°', '23°', '22°', '19°']\n",
      "['18°', '16°', '16°', '19°', '21°', '21°', '20°', '18°']\n",
      "['17°', '16°', '15°', '17°', '20°', '20°', '19°', '18°']\n"
     ]
    }
   ],
   "source": [
    "day_list = ['day1', 'day2', 'day3', 'day4', 'day5', 'day6', 'day7']\n",
    "day = day_list\n",
    "d = 0\n",
    "n = 0\n",
    "\n",
    "while n < 7:\n",
    "    day_list[d] = forecast[n]\n",
    "    \n",
    "    day_tags = day_list[d].select('div')\n",
    "    day_ = [tt.get_text() for tt in day_tags]\n",
    "    day_list[d] = day_\n",
    "    \n",
    "    print(day_list[d])\n",
    "    \n",
    "    n += 1\n",
    "    d += 1\n",
    "    time.sleep(2)\n"
   ]
  },
  {
   "cell_type": "markdown",
   "metadata": {},
   "source": [
    "## now I want to put this data into a dataframe "
   ]
  },
  {
   "cell_type": "code",
   "execution_count": 71,
   "metadata": {
    "scrolled": true
   },
   "outputs": [],
   "source": [
    "import pandas as pd\n",
    "import numpy as np"
   ]
  },
  {
   "cell_type": "code",
   "execution_count": 72,
   "metadata": {},
   "outputs": [
    {
     "data": {
      "text/plain": [
       "['27°', '26°', '26°', '24°', '22°', '21°', '21°', '20°']"
      ]
     },
     "execution_count": 72,
     "metadata": {},
     "output_type": "execute_result"
    }
   ],
   "source": [
    "# I need to union all of these: day_list[0], day_list[1] and so on \n",
    "\n",
    "day_list[0]"
   ]
  },
  {
   "cell_type": "code",
   "execution_count": 73,
   "metadata": {},
   "outputs": [],
   "source": [
    "dfs = [day_list[0], day_list[1], day_list[2], day_list[3], day_list[4], day_list[5], day_list[6]]"
   ]
  },
  {
   "cell_type": "code",
   "execution_count": 74,
   "metadata": {},
   "outputs": [
    {
     "data": {
      "text/html": [
       "<div>\n",
       "<style scoped>\n",
       "    .dataframe tbody tr th:only-of-type {\n",
       "        vertical-align: middle;\n",
       "    }\n",
       "\n",
       "    .dataframe tbody tr th {\n",
       "        vertical-align: top;\n",
       "    }\n",
       "\n",
       "    .dataframe thead th {\n",
       "        text-align: right;\n",
       "    }\n",
       "</style>\n",
       "<table border=\"1\" class=\"dataframe\">\n",
       "  <thead>\n",
       "    <tr style=\"text-align: right;\">\n",
       "      <th></th>\n",
       "      <th>in_days_time</th>\n",
       "      <th>min</th>\n",
       "      <th>max</th>\n",
       "    </tr>\n",
       "  </thead>\n",
       "  <tbody>\n",
       "  </tbody>\n",
       "</table>\n",
       "</div>"
      ],
      "text/plain": [
       "Empty DataFrame\n",
       "Columns: [in_days_time, min, max]\n",
       "Index: []"
      ]
     },
     "execution_count": 74,
     "metadata": {},
     "output_type": "execute_result"
    }
   ],
   "source": [
    "future_temp = pd.DataFrame(columns=['in_days_time','min','max'])\n",
    "future_temp"
   ]
  },
  {
   "cell_type": "code",
   "execution_count": 75,
   "metadata": {},
   "outputs": [
    {
     "data": {
      "text/html": [
       "<div>\n",
       "<style scoped>\n",
       "    .dataframe tbody tr th:only-of-type {\n",
       "        vertical-align: middle;\n",
       "    }\n",
       "\n",
       "    .dataframe tbody tr th {\n",
       "        vertical-align: top;\n",
       "    }\n",
       "\n",
       "    .dataframe thead th {\n",
       "        text-align: right;\n",
       "    }\n",
       "</style>\n",
       "<table border=\"1\" class=\"dataframe\">\n",
       "  <thead>\n",
       "    <tr style=\"text-align: right;\">\n",
       "      <th></th>\n",
       "      <th>in_days_time</th>\n",
       "      <th>min</th>\n",
       "      <th>max</th>\n",
       "    </tr>\n",
       "  </thead>\n",
       "  <tbody>\n",
       "  </tbody>\n",
       "</table>\n",
       "</div>"
      ],
      "text/plain": [
       "Empty DataFrame\n",
       "Columns: [in_days_time, min, max]\n",
       "Index: []"
      ]
     },
     "execution_count": 75,
     "metadata": {},
     "output_type": "execute_result"
    }
   ],
   "source": [
    "future_temp"
   ]
  },
  {
   "cell_type": "code",
   "execution_count": 76,
   "metadata": {},
   "outputs": [],
   "source": [
    "# now I have a table to work with, I should fill it with the min and max predictions "
   ]
  },
  {
   "cell_type": "code",
   "execution_count": 77,
   "metadata": {},
   "outputs": [],
   "source": [
    "future_temp.set_index('in_days_time', inplace = True)"
   ]
  },
  {
   "cell_type": "code",
   "execution_count": 78,
   "metadata": {},
   "outputs": [
    {
     "data": {
      "text/plain": [
       "'27°'"
      ]
     },
     "execution_count": 78,
     "metadata": {},
     "output_type": "execute_result"
    }
   ],
   "source": [
    "# I need to use the following syntax to fill it in:\n",
    "\n",
    "max(dfs[0])"
   ]
  },
  {
   "cell_type": "code",
   "execution_count": 79,
   "metadata": {},
   "outputs": [
    {
     "data": {
      "text/plain": [
       "'20°'"
      ]
     },
     "execution_count": 79,
     "metadata": {},
     "output_type": "execute_result"
    }
   ],
   "source": [
    "min(dfs[0])"
   ]
  },
  {
   "cell_type": "code",
   "execution_count": 80,
   "metadata": {},
   "outputs": [],
   "source": [
    "future_temp['min'] = [min(dfs[0]), min(dfs[1]), min(dfs[2]), min(dfs[3]), min(dfs[4]), min(dfs[5]), min(dfs[6])]\n",
    "\n",
    "future_temp['max'] = [max(dfs[0]), max(dfs[1]), max(dfs[2]), max(dfs[3]), max(dfs[4]), max(dfs[5]), max(dfs[6])]\n"
   ]
  },
  {
   "cell_type": "code",
   "execution_count": 81,
   "metadata": {
    "scrolled": true
   },
   "outputs": [
    {
     "data": {
      "text/html": [
       "<div>\n",
       "<style scoped>\n",
       "    .dataframe tbody tr th:only-of-type {\n",
       "        vertical-align: middle;\n",
       "    }\n",
       "\n",
       "    .dataframe tbody tr th {\n",
       "        vertical-align: top;\n",
       "    }\n",
       "\n",
       "    .dataframe thead th {\n",
       "        text-align: right;\n",
       "    }\n",
       "</style>\n",
       "<table border=\"1\" class=\"dataframe\">\n",
       "  <thead>\n",
       "    <tr style=\"text-align: right;\">\n",
       "      <th></th>\n",
       "      <th>min</th>\n",
       "      <th>max</th>\n",
       "    </tr>\n",
       "    <tr>\n",
       "      <th>in_days_time</th>\n",
       "      <th></th>\n",
       "      <th></th>\n",
       "    </tr>\n",
       "  </thead>\n",
       "  <tbody>\n",
       "    <tr>\n",
       "      <th>0</th>\n",
       "      <td>20°</td>\n",
       "      <td>27°</td>\n",
       "    </tr>\n",
       "    <tr>\n",
       "      <th>1</th>\n",
       "      <td>19°</td>\n",
       "      <td>24°</td>\n",
       "    </tr>\n",
       "    <tr>\n",
       "      <th>2</th>\n",
       "      <td>19°</td>\n",
       "      <td>21°</td>\n",
       "    </tr>\n",
       "    <tr>\n",
       "      <th>3</th>\n",
       "      <td>18°</td>\n",
       "      <td>22°</td>\n",
       "    </tr>\n",
       "    <tr>\n",
       "      <th>4</th>\n",
       "      <td>18°</td>\n",
       "      <td>23°</td>\n",
       "    </tr>\n",
       "    <tr>\n",
       "      <th>5</th>\n",
       "      <td>16°</td>\n",
       "      <td>21°</td>\n",
       "    </tr>\n",
       "    <tr>\n",
       "      <th>6</th>\n",
       "      <td>15°</td>\n",
       "      <td>20°</td>\n",
       "    </tr>\n",
       "  </tbody>\n",
       "</table>\n",
       "</div>"
      ],
      "text/plain": [
       "              min  max\n",
       "in_days_time          \n",
       "0             20°  27°\n",
       "1             19°  24°\n",
       "2             19°  21°\n",
       "3             18°  22°\n",
       "4             18°  23°\n",
       "5             16°  21°\n",
       "6             15°  20°"
      ]
     },
     "execution_count": 81,
     "metadata": {},
     "output_type": "execute_result"
    }
   ],
   "source": [
    "future_temp"
   ]
  },
  {
   "cell_type": "code",
   "execution_count": 82,
   "metadata": {
    "scrolled": true
   },
   "outputs": [
    {
     "data": {
      "text/plain": [
       "min    object\n",
       "max    object\n",
       "dtype: object"
      ]
     },
     "execution_count": 82,
     "metadata": {},
     "output_type": "execute_result"
    }
   ],
   "source": [
    "future_temp.dtypes"
   ]
  },
  {
   "cell_type": "code",
   "execution_count": 83,
   "metadata": {},
   "outputs": [],
   "source": [
    "future_temp['min'] = future_temp['min'].map(lambda x: str(x)[:-1])"
   ]
  },
  {
   "cell_type": "code",
   "execution_count": 84,
   "metadata": {},
   "outputs": [],
   "source": [
    "future_temp['max'] = future_temp['max'].map(lambda x: str(x)[:-1])"
   ]
  },
  {
   "cell_type": "code",
   "execution_count": 85,
   "metadata": {},
   "outputs": [],
   "source": [
    "future_temp['min'] = future_temp['min'].astype('int')\n",
    "future_temp['max'] = future_temp['max'].astype('int')"
   ]
  },
  {
   "cell_type": "code",
   "execution_count": 86,
   "metadata": {},
   "outputs": [
    {
     "data": {
      "text/plain": [
       "min    int32\n",
       "max    int32\n",
       "dtype: object"
      ]
     },
     "execution_count": 86,
     "metadata": {},
     "output_type": "execute_result"
    }
   ],
   "source": [
    "future_temp.dtypes"
   ]
  },
  {
   "cell_type": "code",
   "execution_count": 87,
   "metadata": {},
   "outputs": [
    {
     "data": {
      "text/html": [
       "<div>\n",
       "<style scoped>\n",
       "    .dataframe tbody tr th:only-of-type {\n",
       "        vertical-align: middle;\n",
       "    }\n",
       "\n",
       "    .dataframe tbody tr th {\n",
       "        vertical-align: top;\n",
       "    }\n",
       "\n",
       "    .dataframe thead th {\n",
       "        text-align: right;\n",
       "    }\n",
       "</style>\n",
       "<table border=\"1\" class=\"dataframe\">\n",
       "  <thead>\n",
       "    <tr style=\"text-align: right;\">\n",
       "      <th></th>\n",
       "      <th>min</th>\n",
       "      <th>max</th>\n",
       "    </tr>\n",
       "    <tr>\n",
       "      <th>in_days_time</th>\n",
       "      <th></th>\n",
       "      <th></th>\n",
       "    </tr>\n",
       "  </thead>\n",
       "  <tbody>\n",
       "    <tr>\n",
       "      <th>0</th>\n",
       "      <td>20</td>\n",
       "      <td>27</td>\n",
       "    </tr>\n",
       "    <tr>\n",
       "      <th>1</th>\n",
       "      <td>19</td>\n",
       "      <td>24</td>\n",
       "    </tr>\n",
       "    <tr>\n",
       "      <th>2</th>\n",
       "      <td>19</td>\n",
       "      <td>21</td>\n",
       "    </tr>\n",
       "    <tr>\n",
       "      <th>3</th>\n",
       "      <td>18</td>\n",
       "      <td>22</td>\n",
       "    </tr>\n",
       "    <tr>\n",
       "      <th>4</th>\n",
       "      <td>18</td>\n",
       "      <td>23</td>\n",
       "    </tr>\n",
       "    <tr>\n",
       "      <th>5</th>\n",
       "      <td>16</td>\n",
       "      <td>21</td>\n",
       "    </tr>\n",
       "    <tr>\n",
       "      <th>6</th>\n",
       "      <td>15</td>\n",
       "      <td>20</td>\n",
       "    </tr>\n",
       "  </tbody>\n",
       "</table>\n",
       "</div>"
      ],
      "text/plain": [
       "              min  max\n",
       "in_days_time          \n",
       "0              20   27\n",
       "1              19   24\n",
       "2              19   21\n",
       "3              18   22\n",
       "4              18   23\n",
       "5              16   21\n",
       "6              15   20"
      ]
     },
     "execution_count": 87,
     "metadata": {},
     "output_type": "execute_result"
    }
   ],
   "source": [
    "future_temp"
   ]
  },
  {
   "cell_type": "code",
   "execution_count": 88,
   "metadata": {},
   "outputs": [],
   "source": [
    "# now I want to be able to run this script every week and make sure my index is correct \n",
    "\n",
    "# how can I do this:\n",
    "\n",
    "# going to schedule every week to run on windows task scheduler \n",
    "\n",
    "# going to make it create a .csv each time "
   ]
  },
  {
   "cell_type": "code",
   "execution_count": 89,
   "metadata": {},
   "outputs": [],
   "source": [
    "f = 0\n",
    "\n",
    "future_temp.to_csv(f\"future_temp{f}.csv\")"
   ]
  },
  {
   "cell_type": "code",
   "execution_count": null,
   "metadata": {},
   "outputs": [],
   "source": []
  }
 ],
 "metadata": {
  "kernelspec": {
   "display_name": "Python 3",
   "language": "python",
   "name": "python3"
  },
  "language_info": {
   "codemirror_mode": {
    "name": "ipython",
    "version": 3
   },
   "file_extension": ".py",
   "mimetype": "text/x-python",
   "name": "python",
   "nbconvert_exporter": "python",
   "pygments_lexer": "ipython3",
   "version": "3.7.6"
  }
 },
 "nbformat": 4,
 "nbformat_minor": 4
}
